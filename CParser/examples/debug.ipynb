{
 "cells": [
  {
   "cell_type": "code",
   "execution_count": 1,
   "metadata": {},
   "outputs": [
    {
     "name": "stdout",
     "output_type": "stream",
     "text": [
      "2024-11-06 22:50:36,247 - INFO - arg: {'functionD': {'return_type': 'void', 'parameters': '无参数'}, 'functionC': {'return_type': 'int', 'parameters': [('x', 'int')]}, 'functionB': {'return_type': 'void', 'parameters': [('y', 'double')]}, 'functionA': {'return_type': 'void', 'parameters': '无参数'}}\n",
      "2024-11-06 22:50:36,249 - INFO - line: int main() {\n",
      "2024-11-06 22:50:36,250 - INFO - line: printf(\"In main\\n\");\n",
      "2024-11-06 22:50:36,250 - INFO - line: functionA();\n",
      "2024-11-06 22:50:36,251 - INFO - function name: functionA\n",
      "2024-11-06 22:50:36,252 - INFO - function body: \n",
      "functionB(2.0);\n",
      "    functionD();\n",
      "2024-11-06 22:50:36,253 - INFO - line: return 0;\n",
      "2024-11-06 22:50:36,253 - INFO - line: }\n",
      "该代码没有相关性参数\n"
     ]
    },
    {
     "data": {
      "text/plain": [
       "{}"
      ]
     },
     "execution_count": 1,
     "metadata": {},
     "output_type": "execute_result"
    }
   ],
   "source": [
    "import sys\n",
    "import logging\n",
    "from parse_parameters import parse_parameter_relations\n",
    "logging.basicConfig(\n",
    "    level=logging.INFO,\n",
    "    format='%(asctime)s - %(levelname)s - %(message)s',\n",
    "    handlers=[\n",
    "        logging.FileHandler(\"debug.log\", 'w', encoding='utf-8'),\n",
    "        logging.StreamHandler(sys.stdout)\n",
    "    ],\n",
    ")\n",
    "parse_parameter_relations(\"\"\"\n",
    "#include <stdio.h>\n",
    "\n",
    "void functionD() {\n",
    "    printf(\"In functionD\\\\n\");\n",
    "}\n",
    "\n",
    "int functionC(int x) {\n",
    "    printf(\"In functionC with x = %d\\\\n\", x);\n",
    "    return x + 1;\n",
    "}\n",
    "\n",
    "void functionB(double y) {\n",
    "    int result = functionC(5);\n",
    "    printf(\"Result from functionC: %d\\\\n\", result);\n",
    "}\n",
    "\n",
    "void functionA() {\n",
    "    functionB(2.0);\n",
    "    functionD();\n",
    "}\n",
    "\n",
    "int main() {\n",
    "    printf(\"In main\\\\n\");\n",
    "    functionA();\n",
    "    return 0;\n",
    "}\n",
    "\"\"\",\n",
    "    {'functionD': {'return_type': 'void', 'parameters': '无参数'}, 'functionC': {'return_type': 'int', 'parameters': [('x', 'int')]}, 'functionB': {'return_type': 'void', 'parameters': [('y', 'double')]}, 'functionA': {'return_type': 'void', 'parameters': '无参数'}}\n",
    ")"
   ]
  },
  {
   "cell_type": "code",
   "execution_count": 6,
   "metadata": {},
   "outputs": [
    {
     "name": "stdout",
     "output_type": "stream",
     "text": [
      "\n",
      "hello\n",
      "\n"
     ]
    }
   ],
   "source": [
    "print(\"\"\"\n",
    "hello\n",
    "\"\"\")"
   ]
  },
  {
   "cell_type": "code",
   "execution_count": null,
   "metadata": {},
   "outputs": [],
   "source": []
  }
 ],
 "metadata": {
  "kernelspec": {
   "display_name": "pytorch",
   "language": "python",
   "name": "python3"
  },
  "language_info": {
   "codemirror_mode": {
    "name": "ipython",
    "version": 3
   },
   "file_extension": ".py",
   "mimetype": "text/x-python",
   "name": "python",
   "nbconvert_exporter": "python",
   "pygments_lexer": "ipython3",
   "version": "3.12.3"
  }
 },
 "nbformat": 4,
 "nbformat_minor": 2
}
