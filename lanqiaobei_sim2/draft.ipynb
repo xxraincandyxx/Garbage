{
 "cells": [
  {
   "cell_type": "code",
   "execution_count": 2,
   "metadata": {},
   "outputs": [
    {
     "name": "stdout",
     "output_type": "stream",
     "text": [
      "23\n"
     ]
    }
   ],
   "source": [
    "import math\n",
    "\n",
    "ans = 0\n",
    "def is_p(p):\n",
    "    for i in range(2, int(math.sqrt(p)) + 1):\n",
    "        if p % i == 0:\n",
    "            return False\n",
    "    return True\n",
    "\n",
    "for i in range(1, 2025):\n",
    "    if 2024 % i == 0 and is_p(i):\n",
    "        ans = i\n",
    "print(ans)"
   ]
  },
  {
   "cell_type": "code",
   "execution_count": 2,
   "metadata": {},
   "outputs": [
    {
     "name": "stdout",
     "output_type": "stream",
     "text": [
      "259072\n"
     ]
    }
   ],
   "source": [
    "i = 1\n",
    "j = 1\n",
    "a = 2024\n",
    "b = 1024\n",
    "while True:\n",
    "    a = 2024 * i\n",
    "    while b < a:\n",
    "        b = 1024 * j\n",
    "        if a == b:\n",
    "            print(a)\n",
    "            break\n",
    "        j += 1\n",
    "    if a == b:\n",
    "        break\n",
    "    i += 1"
   ]
  },
  {
   "cell_type": "code",
   "execution_count": 4,
   "metadata": {},
   "outputs": [
    {
     "name": "stdout",
     "output_type": "stream",
     "text": [
      "2001\n"
     ]
    }
   ],
   "source": [
    "cnt = 0\n",
    "for i in range(1, 2025):\n",
    "    if i ^ 2024 < 2024:\n",
    "        cnt += 1\n",
    "print(cnt)"
   ]
  },
  {
   "cell_type": "code",
   "execution_count": null,
   "metadata": {},
   "outputs": [
    {
     "data": {
      "text/plain": [
       "6"
      ]
     },
     "execution_count": 8,
     "metadata": {},
     "output_type": "execute_result"
    }
   ],
   "source": [
    "def get_max_digit(n):\n",
    "    max_digit = 0\n",
    "    while n > 0:\n",
    "        digit = n % 10\n",
    "        if digit > max_digit:\n",
    "            max_digit = digit\n",
    "        n //= 10\n",
    "    return max_digit\n",
    "\n",
    "\n",
    "def dfs(val, wei, tar):\n",
    "    "
   ]
  },
  {
   "cell_type": "code",
   "execution_count": 14,
   "metadata": {},
   "outputs": [
    {
     "data": {
      "text/plain": [
       "634"
      ]
     },
     "execution_count": 14,
     "metadata": {},
     "output_type": "execute_result"
    }
   ],
   "source": [
    "arr = [534, 386, 319, 692, 169, 338, 521, 713, 640, 692, 969, 362, 311, 349, 308, 357, 515, 140, 591, 216,\n",
    "57, 252, 575, 630, 95, 274, 328, 614, 18, 605, 17, 980, 166, 112, 997, 37, 584, 64, 442, 495,\n",
    "821, 459, 453, 597, 187, 734, 827, 950, 679, 78, 769, 661, 452, 983, 356, 217, 394, 342, 697, 878,\n",
    "475, 250, 468, 33, 966, 742, 436, 343, 255, 944, 588, 734, 540, 508, 779, 881, 153, 928, 764, 703,\n",
    "459, 840, 949, 500, 648, 163, 547, 780, 749, 132, 546, 199, 701, 448, 265, 263, 87, 45, 828, 634]\n",
    "\n",
    "def max_sum_mod24(arr):\n",
    "    max_sum = 0\n",
    "    for i in range(len(arr)):\n",
    "        for j in range(i, len(arr)):\n",
    "            sub_sum = sum(arr[i:j+1])\n",
    "            if sub_sum % 24 == 0:\n",
    "                max_sum = max(max_sum, sub_sum)\n",
    "\n",
    "sum(arr[99:101])"
   ]
  }
 ],
 "metadata": {
  "kernelspec": {
   "display_name": "pytorch",
   "language": "python",
   "name": "python3"
  },
  "language_info": {
   "codemirror_mode": {
    "name": "ipython",
    "version": 3
   },
   "file_extension": ".py",
   "mimetype": "text/x-python",
   "name": "python",
   "nbconvert_exporter": "python",
   "pygments_lexer": "ipython3",
   "version": "3.12.3"
  }
 },
 "nbformat": 4,
 "nbformat_minor": 2
}
